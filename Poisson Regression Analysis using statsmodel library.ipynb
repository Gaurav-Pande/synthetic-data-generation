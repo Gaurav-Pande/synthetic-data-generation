{
 "cells": [
  {
   "cell_type": "code",
   "execution_count": 16,
   "metadata": {},
   "outputs": [
    {
     "data": {
      "image/png": "[encoded data removed]",
      "text/plain": [
       "<matplotlib.figure.Figure at 0x11809e250>"
      ]
     },
     "metadata": {},
     "output_type": "display_data"
    }
   ],
   "source": [
    "import numpy as np\n",
    "import matplotlib.pyplot as plt\n",
    "import seaborn as sns\n",
    "from math import sqrt\n",
    "\n",
    "bi = np.random.binomial(n=100, p=0.5, size=10000)\n",
    "n = np.random.normal(100*0.5, sqrt(100*0.5*0.5), size=10000)\n",
    "poi= np.random.poisson(60, size=10000)\n",
    "\n",
    "plt.hist(bi, bins=20, normed=True);\n",
    "plt.hist(poi, bins=20, normed=True);\n",
    "plt.hist(n, alpha=0.5, bins=20, normed=True);\n",
    "plt.show();\n"
   ]
  },
  {
   "cell_type": "code",
   "execution_count": 17,
   "metadata": {},
   "outputs": [
    {
     "name": "stdout",
     "output_type": "stream",
     "text": [
      "[60 56 71 ..., 63 56 65]\n"
     ]
    }
   ],
   "source": [
    "print poi"
   ]
  },
  {
   "cell_type": "code",
   "execution_count": 18,
   "metadata": {},
   "outputs": [
    {
     "data": {
      "image/png": "[encoded data removed]",
      "text/plain": [
       "<matplotlib.figure.Figure at 0x117d29110>"
      ]
     },
     "metadata": {},
     "output_type": "display_data"
    }
   ],
   "source": [
    "count, bins, ignored = plt.hist(poi, 14, normed=True)\n",
    "plt.show()"
   ]
  },
  {
   "cell_type": "code",
   "execution_count": 21,
   "metadata": {
    "collapsed": true
   },
   "outputs": [],
   "source": [
    "import numpy as np\n",
    "s = np.random.poisson(50.5, 10000)"
   ]
  },
  {
   "cell_type": "code",
   "execution_count": 22,
   "metadata": {},
   "outputs": [
    {
     "name": "stdout",
     "output_type": "stream",
     "text": [
      "[49 40 59 ..., 54 56 57]\n"
     ]
    }
   ],
   "source": [
    "print s"
   ]
  },
  {
   "cell_type": "code",
   "execution_count": 25,
   "metadata": {},
   "outputs": [
    {
     "name": "stdout",
     "output_type": "stream",
     "text": [
      "[49 52 46 ..., 55 58 42]\n"
     ]
    }
   ],
   "source": [
    "import random\n",
    "import scipy.stats  as stats\n",
    "random.seed(12)\n",
    "\n",
    "\n",
    "arrival_rate_1 = stats.poisson.rvs(size=10000,  # Generate Poisson data\n",
    "                                   mu=50.5 )  \n",
    "\n",
    "print arrival_rate_1"
   ]
  },
  {
   "cell_type": "code",
   "execution_count": 27,
   "metadata": {},
   "outputs": [
    {
     "data": {
      "text/plain": [
       "'57 days, 20:53:20'"
      ]
     },
     "execution_count": 27,
     "metadata": {},
     "output_type": "execute_result"
    }
   ],
   "source": [
    "import datetime\n",
    "str(datetime.timedelta(seconds=5000000))\n"
   ]
  },
  {
   "cell_type": "code",
   "execution_count": 30,
   "metadata": {},
   "outputs": [
    {
     "name": "stdout",
     "output_type": "stream",
     "text": [
      "<built-in method timetuple of datetime.datetime object at 0x113f77e18>\n"
     ]
    }
   ],
   "source": [
    "from datetime import datetime\n",
    "import time\n",
    "dt = datetime.today()  # Get timezone naive now\n"
   ]
  },
  {
   "cell_type": "code",
   "execution_count": 45,
   "metadata": {},
   "outputs": [
    {
     "name": "stdout",
     "output_type": "stream",
     "text": [
      "1506431949.0\n"
     ]
    }
   ],
   "source": [
    "import datetime, time\n",
    "t = datetime.datetime.today()\n",
    "n=time.mktime(t.timetuple())\n",
    "print n"
   ]
  },
  {
   "cell_type": "code",
   "execution_count": 46,
   "metadata": {},
   "outputs": [
    {
     "data": {
      "text/plain": [
       "'2017-09-26 13:19:09'"
      ]
     },
     "execution_count": 46,
     "metadata": {},
     "output_type": "execute_result"
    }
   ],
   "source": [
    "datetime.datetime.utcfromtimestamp(n).strftime('%Y-%m-%d %H:%M:%S')"
   ]
  },
  {
   "cell_type": "code",
   "execution_count": 27,
   "metadata": {},
   "outputs": [
    {
     "name": "stdout",
     "output_type": "stream",
     "text": [
      "Populating the interactive namespace from numpy and matplotlib\n"
     ]
    }
   ],
   "source": [
    "%pylab inline\n",
    "from scipy import stats\n",
    "import numpy as np\n",
    "import matplotlib.pyplot as plt\n",
    "import statsmodels.api as sm\n",
    "#samp = scipy.stats.poisson.rvs(5,size=200)\n",
    "poi= np.random.poisson(60, size=10000)"
   ]
  },
  {
   "cell_type": "code",
   "execution_count": 105,
   "metadata": {},
   "outputs": [
    {
     "ename": "TypeError",
     "evalue": "data type \"\" not understood",
     "output_type": "error",
     "traceback": [
      "\u001b[0;31m---------------------------------------------------------------------------\u001b[0m",
      "\u001b[0;31mTypeError\u001b[0m                                 Traceback (most recent call last)",
      "\u001b[0;32m<ipython-input-105-13640b4afd6c>\u001b[0m in \u001b[0;36m<module>\u001b[0;34m()\u001b[0m\n\u001b[0;32m----> 1\u001b[0;31m \u001b[0;32mprint\u001b[0m \u001b[0mpoi\u001b[0m\u001b[0;34m.\u001b[0m\u001b[0mgetfield\u001b[0m\u001b[0;34m(\u001b[0m\u001b[0;34m'40'\u001b[0m\u001b[0;34m)\u001b[0m\u001b[0;34m\u001b[0m\u001b[0m\n\u001b[0m",
      "\u001b[0;31mTypeError\u001b[0m: data type \"\" not understood"
     ]
    }
   ],
   "source": [
    "print poi."
   ]
  },
  {
   "cell_type": "code",
   "execution_count": 146,
   "metadata": {},
   "outputs": [
    {
     "data": {
      "image/png": "[encoded data removed]",
      "text/plain": [
       "<matplotlib.figure.Figure at 0x118320650>"
      ]
     },
     "metadata": {},
     "output_type": "display_data"
    }
   ],
   "source": [
    "a = plt.hist(poi,bins=80)[0]\n",
    "b = plt.hist(poi,bins=80)[1]"
   ]
  },
  {
   "cell_type": "code",
   "execution_count": 157,
   "metadata": {},
   "outputs": [
    {
     "name": "stdout",
     "output_type": "stream",
     "text": [
      "80\n"
     ]
    }
   ],
   "source": [
    "c = np.delete(b,80)\n",
    "print size(c)"
   ]
  },
  {
   "cell_type": "code",
   "execution_count": 160,
   "metadata": {},
   "outputs": [
    {
     "name": "stdout",
     "output_type": "stream",
     "text": [
      "Optimization terminated successfully.\n",
      "         Current function value: 206.179076\n",
      "         Iterations 157\n"
     ]
    }
   ],
   "source": [
    "res = sm.Poisson(a,c).fit(maxiter=200)\n"
   ]
  },
  {
   "cell_type": "code",
   "execution_count": 96,
   "metadata": {},
   "outputs": [
    {
     "name": "stdout",
     "output_type": "stream",
     "text": [
      "Optimization terminated successfully.\n",
      "         Current function value: 3.464359\n",
      "         Iterations 61\n"
     ]
    }
   ],
   "source": [
    "import statsmodels as stat\n",
    "r= stat.discrete.discrete_model.Poisson(poi,np.ones_like(poi)).fit(maxiter=100)\n"
   ]
  },
  {
   "cell_type": "code",
   "execution_count": 161,
   "metadata": {},
   "outputs": [
    {
     "name": "stdout",
     "output_type": "stream",
     "text": [
      "                          Poisson Regression Results                          \n",
      "==============================================================================\n",
      "Dep. Variable:                      y   No. Observations:                   80\n",
      "Model:                        Poisson   Df Residuals:                       79\n",
      "Method:                           MLE   Df Model:                            0\n",
      "Date:                Wed, 04 Oct 2017   Pseudo R-squ.:                 -0.7610\n",
      "Time:                        12:18:00   Log-Likelihood:                -16494.\n",
      "converged:                       True   LL-Null:                       -9366.3\n",
      "                                        LLR p-value:                       nan\n",
      "==============================================================================\n",
      "                 coef    std err          z      P>|z|      [0.025      0.975]\n",
      "------------------------------------------------------------------------------\n",
      "x1             0.0651      0.000    446.723      0.000       0.065       0.065\n",
      "==============================================================================\n"
     ]
    }
   ],
   "source": [
    "print res.summary()"
   ]
  },
  {
   "cell_type": "code",
   "execution_count": 81,
   "metadata": {},
   "outputs": [
    {
     "name": "stdout",
     "output_type": "stream",
     "text": [
      "                          Poisson Regression Results                          \n",
      "==============================================================================\n",
      "Dep. Variable:                      y   No. Observations:                10000\n",
      "Model:                        Poisson   Df Residuals:                     9999\n",
      "Method:                           MLE   Df Model:                            0\n",
      "Date:                Wed, 04 Oct 2017   Pseudo R-squ.:                   0.000\n",
      "Time:                        10:40:13   Log-Likelihood:                -34644.\n",
      "converged:                       True   LL-Null:                       -34644.\n",
      "                                        LLR p-value:                       nan\n",
      "==============================================================================\n",
      "                 coef    std err          z      P>|z|      [0.025      0.975]\n",
      "------------------------------------------------------------------------------\n",
      "const          4.0969      0.001   3177.600      0.000       4.094       4.099\n",
      "==============================================================================\n"
     ]
    }
   ],
   "source": [
    "print res.summary()"
   ]
  },
  {
   "cell_type": "code",
   "execution_count": 167,
   "metadata": {},
   "outputs": [
    {
     "name": "stdout",
     "output_type": "stream",
     "text": [
      "[   3.    3.    2.    0.    7.   11.    0.   10.   19.    0.   41.   41.\n",
      "   47.    0.   60.   93.    0.  114.  148.    0.  202.  251.  277.    0.\n",
      "  274.  356.    0.  395.  426.    0.  480.  454.  516.    0.  520.  533.\n",
      "    0.  481.  524.    0.  479.  437.  400.    0.  365.  331.    0.  270.\n",
      "  246.    0.  228.  192.  156.    0.  142.  114.    0.   75.   69.    0.\n",
      "   58.   37.   28.    0.   28.   15.    0.   14.   10.    0.    8.    3.\n",
      "    2.    0.    1.    2.    0.    1.    0.    1.]\n",
      "[ 35.   35.7  36.4  37.1  37.8  38.5  39.2  39.9  40.6  41.3  42.   42.7\n",
      "  43.4  44.1  44.8  45.5  46.2  46.9  47.6  48.3  49.   49.7  50.4  51.1\n",
      "  51.8  52.5  53.2  53.9  54.6  55.3  56.   56.7  57.4  58.1  58.8  59.5\n",
      "  60.2  60.9  61.6  62.3  63.   63.7  64.4  65.1  65.8  66.5  67.2  67.9\n",
      "  68.6  69.3  70.   70.7  71.4  72.1  72.8  73.5  74.2  74.9  75.6  76.3\n",
      "  77.   77.7  78.4  79.1  79.8  80.5  81.2  81.9  82.6  83.3  84.   84.7\n",
      "  85.4  86.1  86.8  87.5  88.2  88.9  89.6  90.3]\n"
     ]
    },
    {
     "data": {
      "text/plain": [
       "array([   9.75315454,   10.20770259,   10.68343495,   11.18133893,\n",
       "         11.70244784,   12.24784316,   12.81865675,   13.41607324,\n",
       "         14.04133247,   14.69573205,   15.38063008,   16.09744793,\n",
       "         16.84767325,   17.632863  ,   18.4546467 ,   19.31472982,\n",
       "         20.21489732,   21.15701733,   22.14304506,   23.17502685,\n",
       "         24.25510439,   25.3855192 ,   26.56861725,   27.80685386,\n",
       "         29.10279878,   30.45914152,   31.87869692,   33.36441104,\n",
       "         34.91936721,   36.54679247,   38.25006427,   40.03271745,\n",
       "         41.8984516 ,   43.85113873,   45.89483129,   48.03377062,\n",
       "         50.27239572,   52.61535247,   55.06750326,   57.63393711,\n",
       "         60.31998021,   63.13120698,   66.07345163,   69.15282028,\n",
       "         72.37570362,   75.74879019,   79.27908026,   82.97390031,\n",
       "         86.84091832,   90.8881596 ,   95.12402351,   99.55730084,\n",
       "        104.19719211,  109.05332658,  114.13578234,  119.45510714,\n",
       "        125.02234031,  130.84903569,  136.94728556,  143.32974579,\n",
       "        150.00966207,  157.00089742,  164.31796091,  171.97603787,\n",
       "        179.99102128,  188.37954487,  197.15901757,  206.34765963,\n",
       "        215.96454051,  226.02961837,  236.56378153,  247.58889183,\n",
       "        259.12782997,  271.20454301,  283.84409409,  297.0727144 ,\n",
       "        310.91785765,  325.40825703,  340.57398486,  356.44651498])"
      ]
     },
     "execution_count": 167,
     "metadata": {},
     "output_type": "execute_result"
    }
   ],
   "source": [
    "print a\n",
    "print c\n",
    "res.predict()"
   ]
  },
  {
   "cell_type": "code",
   "execution_count": 173,
   "metadata": {},
   "outputs": [],
   "source": [
    "ran = np.random.poisson(20,100)"
   ]
  },
  {
   "cell_type": "code",
   "execution_count": 174,
   "metadata": {},
   "outputs": [
    {
     "name": "stdout",
     "output_type": "stream",
     "text": [
      "[19 21 27 25 10 12 16 15 23 24 14 24 19 23 17 27 17 11 18 16 19 19 16 23 20\n",
      " 20 18 24 18 19 29 21 19 25 13 19 32 17 23 18 20 21 10 15 26 19 23 19 28 27\n",
      " 23 20 16 13 17 31 10 17 21 19 19 15 20 24 26 13 21 23 12 15 17 18 16 18 17\n",
      " 19 19 18 23 16 26 33 20 23 14 23 15 28 21 18 18 23 15 21 17 15 20 24 16 17]\n"
     ]
    }
   ],
   "source": [
    "print ran"
   ]
  },
  {
   "cell_type": "code",
   "execution_count": 175,
   "metadata": {},
   "outputs": [
    {
     "data": {
      "text/plain": [
       "array([ 3.44321773,  3.92181464,  5.79501809,  5.08782563,  1.91695928,\n",
       "        2.18341085,  2.8325698 ,  2.65411252,  4.46693508,  4.76728296,\n",
       "        2.4868984 ,  4.76728296,  3.44321773,  4.46693508,  3.02302618,\n",
       "        5.79501809,  3.02302618,  2.04585183,  3.22628848,  2.8325698 ,\n",
       "        3.44321773,  3.44321773,  2.8325698 ,  4.46693508,  3.67473288,\n",
       "        3.67473288,  3.22628848,  4.76728296,  3.22628848,  3.44321773,\n",
       "        6.60050818,  3.92181464,  3.44321773,  5.08782563,  2.33021908,\n",
       "        3.44321773,  8.02345164,  3.02302618,  4.46693508,  3.22628848,\n",
       "        3.67473288,  3.92181464,  1.91695928,  2.65411252,  5.42992095,\n",
       "        3.44321773,  4.46693508,  3.44321773,  6.18466363,  5.79501809,\n",
       "        4.46693508,  3.67473288,  2.8325698 ,  2.33021908,  3.02302618,\n",
       "        7.51795896,  1.91695928,  3.02302618,  3.92181464,  3.44321773,\n",
       "        3.44321773,  2.65411252,  3.67473288,  4.76728296,  5.42992095,\n",
       "        2.33021908,  3.92181464,  4.46693508,  2.18341085,  2.65411252,\n",
       "        3.02302618,  3.22628848,  2.8325698 ,  3.22628848,  3.02302618,\n",
       "        3.44321773,  3.44321773,  3.22628848,  4.46693508,  2.8325698 ,\n",
       "        5.42992095,  8.56293265,  3.67473288,  4.46693508,  2.4868984 ,\n",
       "        4.46693508,  2.65411252,  6.18466363,  3.92181464,  3.22628848,\n",
       "        3.22628848,  4.46693508,  2.65411252,  3.92181464,  3.02302618,\n",
       "        2.65411252,  3.67473288,  4.76728296,  2.8325698 ,  3.02302618])"
      ]
     },
     "execution_count": 175,
     "metadata": {},
     "output_type": "execute_result"
    }
   ],
   "source": [
    "res.predict(ran)"
   ]
  },
  {
   "cell_type": "code",
   "execution_count": 176,
   "metadata": {},
   "outputs": [
    {
     "data": {
      "text/plain": [
       "<Container object of 100 artists>"
      ]
     },
     "execution_count": 176,
     "metadata": {},
     "output_type": "execute_result"
    },
    {
     "data": {
      "image/png": "[encoded data removed]",
      "text/plain": [
       "<matplotlib.figure.Figure at 0x117ce11d0>"
      ]
     },
     "metadata": {},
     "output_type": "display_data"
    }
   ],
   "source": [
    "plt.bar(ran,res.predict(ran))"
   ]
  },
  {
   "cell_type": "code",
   "execution_count": null,
   "metadata": {
    "collapsed": true
   },
   "outputs": [],
   "source": []
  }
 ],
 "metadata": {
  "kernelspec": {
   "display_name": "Python 2",
   "language": "python",
   "name": "python2"
  },
  "language_info": {
   "codemirror_mode": {
    "name": "ipython",
    "version": 2
   },
   "file_extension": ".py",
   "mimetype": "text/x-python",
   "name": "python",
   "nbconvert_exporter": "python",
   "pygments_lexer": "ipython2",
   "version": "2.7.13"
  }
 },
 "nbformat": 4,
 "nbformat_minor": 2
}
